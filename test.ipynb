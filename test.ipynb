{
 "cells": [
  {
   "cell_type": "code",
   "execution_count": 2,
   "metadata": {},
   "outputs": [
    {
     "name": "stdout",
     "output_type": "stream",
     "text": [
      "Prediction for input [5.1 3.5 1.4 0.2]: 0\n"
     ]
    }
   ],
   "source": [
    "import joblib\n",
    "import numpy as np\n",
    "\n",
    "# Load the saved model\n",
    "model = joblib.load('iris_model.joblib')  # Adjust the path as needed\n",
    "\n",
    "# Define input data (example: Iris flower features)\n",
    "input_data = np.array([5.1, 3.5, 1.4, 0.2])  # This is an example, adjust as needed\n",
    "\n",
    "# Make a prediction\n",
    "prediction = model.predict([input_data])\n",
    "\n",
    "# Print the prediction result\n",
    "print(f'Prediction for input {input_data}: {prediction[0]}')\n"
   ]
  }
 ],
 "metadata": {
  "kernelspec": {
   "display_name": "base",
   "language": "python",
   "name": "python3"
  },
  "language_info": {
   "codemirror_mode": {
    "name": "ipython",
    "version": 3
   },
   "file_extension": ".py",
   "mimetype": "text/x-python",
   "name": "python",
   "nbconvert_exporter": "python",
   "pygments_lexer": "ipython3",
   "version": "3.9.12"
  }
 },
 "nbformat": 4,
 "nbformat_minor": 2
}
